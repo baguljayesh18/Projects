{
 "cells": [
  {
   "cell_type": "markdown",
   "id": "8ed5cb5c",
   "metadata": {},
   "source": [
    "# Problem statement\n",
    "Search pattern of similar car recommendation"
   ]
  },
  {
   "cell_type": "code",
   "execution_count": 1,
   "id": "6aa03a87",
   "metadata": {},
   "outputs": [],
   "source": [
    "from warnings import filterwarnings\n",
    "filterwarnings(\"ignore\")"
   ]
  },
  {
   "cell_type": "markdown",
   "id": "1dde6d65",
   "metadata": {},
   "source": [
    "# Reading dataset"
   ]
  },
  {
   "cell_type": "code",
   "execution_count": 2,
   "id": "0cbc794b",
   "metadata": {},
   "outputs": [],
   "source": [
    "import pandas as pd\n",
    "A=pd.read_csv(\"C:/Users/Admin/Desktop/ETL class/machine learning/13-08-2022(Logistic regression)/Cars93.csv\")\n",
    "\n",
    "\n",
    "\n",
    "pd.set_option('display.max_columns', None) # maximize the display value of column\n",
    "pd.set_option('display.max_rows', None)"
   ]
  },
  {
   "cell_type": "code",
   "execution_count": 3,
   "id": "d96e9050",
   "metadata": {},
   "outputs": [
    {
     "data": {
      "text/html": [
       "<div>\n",
       "<style scoped>\n",
       "    .dataframe tbody tr th:only-of-type {\n",
       "        vertical-align: middle;\n",
       "    }\n",
       "\n",
       "    .dataframe tbody tr th {\n",
       "        vertical-align: top;\n",
       "    }\n",
       "\n",
       "    .dataframe thead th {\n",
       "        text-align: right;\n",
       "    }\n",
       "</style>\n",
       "<table border=\"1\" class=\"dataframe\">\n",
       "  <thead>\n",
       "    <tr style=\"text-align: right;\">\n",
       "      <th></th>\n",
       "      <th>id</th>\n",
       "      <th>Manufacturer</th>\n",
       "      <th>Model</th>\n",
       "      <th>Type</th>\n",
       "      <th>Min.Price</th>\n",
       "      <th>Price</th>\n",
       "      <th>Max.Price</th>\n",
       "      <th>MPG.city</th>\n",
       "      <th>MPG.highway</th>\n",
       "      <th>AirBags</th>\n",
       "      <th>DriveTrain</th>\n",
       "      <th>Cylinders</th>\n",
       "      <th>EngineSize</th>\n",
       "      <th>Horsepower</th>\n",
       "      <th>RPM</th>\n",
       "      <th>Revpermile</th>\n",
       "      <th>Man.trans.avail</th>\n",
       "      <th>Fuel.tank.capacity</th>\n",
       "      <th>Passengers</th>\n",
       "      <th>Length</th>\n",
       "      <th>Wheelbase</th>\n",
       "      <th>Width</th>\n",
       "      <th>Turn.circle</th>\n",
       "      <th>Rear.seat.room</th>\n",
       "      <th>Luggage.room</th>\n",
       "      <th>Weight</th>\n",
       "      <th>Origin</th>\n",
       "      <th>Make</th>\n",
       "    </tr>\n",
       "  </thead>\n",
       "  <tbody>\n",
       "    <tr>\n",
       "      <th>0</th>\n",
       "      <td>1</td>\n",
       "      <td>Acura</td>\n",
       "      <td>Integra</td>\n",
       "      <td>Small</td>\n",
       "      <td>12.9</td>\n",
       "      <td>15.9</td>\n",
       "      <td>18.8</td>\n",
       "      <td>25</td>\n",
       "      <td>31</td>\n",
       "      <td>None</td>\n",
       "      <td>Front</td>\n",
       "      <td>4</td>\n",
       "      <td>1.8</td>\n",
       "      <td>140</td>\n",
       "      <td>6300</td>\n",
       "      <td>2890</td>\n",
       "      <td>Yes</td>\n",
       "      <td>13.2</td>\n",
       "      <td>5</td>\n",
       "      <td>177</td>\n",
       "      <td>102</td>\n",
       "      <td>68</td>\n",
       "      <td>37</td>\n",
       "      <td>26.5</td>\n",
       "      <td>11.0</td>\n",
       "      <td>2705</td>\n",
       "      <td>non-USA</td>\n",
       "      <td>Acura Integra</td>\n",
       "    </tr>\n",
       "    <tr>\n",
       "      <th>1</th>\n",
       "      <td>2</td>\n",
       "      <td>Acura</td>\n",
       "      <td>Legend</td>\n",
       "      <td>Midsize</td>\n",
       "      <td>29.2</td>\n",
       "      <td>33.9</td>\n",
       "      <td>38.7</td>\n",
       "      <td>18</td>\n",
       "      <td>25</td>\n",
       "      <td>Driver &amp; Passenger</td>\n",
       "      <td>Front</td>\n",
       "      <td>6</td>\n",
       "      <td>3.2</td>\n",
       "      <td>200</td>\n",
       "      <td>5500</td>\n",
       "      <td>2335</td>\n",
       "      <td>Yes</td>\n",
       "      <td>18.0</td>\n",
       "      <td>5</td>\n",
       "      <td>195</td>\n",
       "      <td>115</td>\n",
       "      <td>71</td>\n",
       "      <td>38</td>\n",
       "      <td>30.0</td>\n",
       "      <td>15.0</td>\n",
       "      <td>3560</td>\n",
       "      <td>non-USA</td>\n",
       "      <td>Acura Legend</td>\n",
       "    </tr>\n",
       "    <tr>\n",
       "      <th>2</th>\n",
       "      <td>3</td>\n",
       "      <td>Audi</td>\n",
       "      <td>90</td>\n",
       "      <td>Compact</td>\n",
       "      <td>25.9</td>\n",
       "      <td>29.1</td>\n",
       "      <td>32.3</td>\n",
       "      <td>20</td>\n",
       "      <td>26</td>\n",
       "      <td>Driver only</td>\n",
       "      <td>Front</td>\n",
       "      <td>6</td>\n",
       "      <td>2.8</td>\n",
       "      <td>172</td>\n",
       "      <td>5500</td>\n",
       "      <td>2280</td>\n",
       "      <td>Yes</td>\n",
       "      <td>16.9</td>\n",
       "      <td>5</td>\n",
       "      <td>180</td>\n",
       "      <td>102</td>\n",
       "      <td>67</td>\n",
       "      <td>37</td>\n",
       "      <td>28.0</td>\n",
       "      <td>14.0</td>\n",
       "      <td>3375</td>\n",
       "      <td>non-USA</td>\n",
       "      <td>Audi 90</td>\n",
       "    </tr>\n",
       "    <tr>\n",
       "      <th>3</th>\n",
       "      <td>4</td>\n",
       "      <td>Audi</td>\n",
       "      <td>100</td>\n",
       "      <td>Midsize</td>\n",
       "      <td>30.8</td>\n",
       "      <td>37.7</td>\n",
       "      <td>44.6</td>\n",
       "      <td>19</td>\n",
       "      <td>26</td>\n",
       "      <td>NaN</td>\n",
       "      <td>Front</td>\n",
       "      <td>6</td>\n",
       "      <td>2.8</td>\n",
       "      <td>172</td>\n",
       "      <td>5500</td>\n",
       "      <td>2535</td>\n",
       "      <td>Yes</td>\n",
       "      <td>21.1</td>\n",
       "      <td>6</td>\n",
       "      <td>193</td>\n",
       "      <td>106</td>\n",
       "      <td>70</td>\n",
       "      <td>37</td>\n",
       "      <td>31.0</td>\n",
       "      <td>17.0</td>\n",
       "      <td>3405</td>\n",
       "      <td>non-USA</td>\n",
       "      <td>Audi 100</td>\n",
       "    </tr>\n",
       "    <tr>\n",
       "      <th>4</th>\n",
       "      <td>5</td>\n",
       "      <td>BMW</td>\n",
       "      <td>535i</td>\n",
       "      <td>Midsize</td>\n",
       "      <td>23.7</td>\n",
       "      <td>30.0</td>\n",
       "      <td>36.2</td>\n",
       "      <td>22</td>\n",
       "      <td>30</td>\n",
       "      <td>Driver only</td>\n",
       "      <td>Rear</td>\n",
       "      <td>4</td>\n",
       "      <td>3.5</td>\n",
       "      <td>208</td>\n",
       "      <td>5700</td>\n",
       "      <td>2545</td>\n",
       "      <td>Yes</td>\n",
       "      <td>21.1</td>\n",
       "      <td>4</td>\n",
       "      <td>186</td>\n",
       "      <td>109</td>\n",
       "      <td>69</td>\n",
       "      <td>39</td>\n",
       "      <td>27.0</td>\n",
       "      <td>13.0</td>\n",
       "      <td>3640</td>\n",
       "      <td>non-USA</td>\n",
       "      <td>BMW 535i</td>\n",
       "    </tr>\n",
       "  </tbody>\n",
       "</table>\n",
       "</div>"
      ],
      "text/plain": [
       "   id Manufacturer    Model     Type  Min.Price  Price  Max.Price  MPG.city  \\\n",
       "0   1        Acura  Integra    Small       12.9   15.9       18.8        25   \n",
       "1   2        Acura   Legend  Midsize       29.2   33.9       38.7        18   \n",
       "2   3         Audi       90  Compact       25.9   29.1       32.3        20   \n",
       "3   4         Audi      100  Midsize       30.8   37.7       44.6        19   \n",
       "4   5          BMW     535i  Midsize       23.7   30.0       36.2        22   \n",
       "\n",
       "   MPG.highway             AirBags DriveTrain Cylinders  EngineSize  \\\n",
       "0           31                None      Front         4         1.8   \n",
       "1           25  Driver & Passenger      Front         6         3.2   \n",
       "2           26         Driver only      Front         6         2.8   \n",
       "3           26                 NaN      Front         6         2.8   \n",
       "4           30         Driver only       Rear         4         3.5   \n",
       "\n",
       "   Horsepower   RPM  Revpermile Man.trans.avail  Fuel.tank.capacity  \\\n",
       "0         140  6300        2890             Yes                13.2   \n",
       "1         200  5500        2335             Yes                18.0   \n",
       "2         172  5500        2280             Yes                16.9   \n",
       "3         172  5500        2535             Yes                21.1   \n",
       "4         208  5700        2545             Yes                21.1   \n",
       "\n",
       "   Passengers  Length  Wheelbase  Width  Turn.circle  Rear.seat.room  \\\n",
       "0           5     177        102     68           37            26.5   \n",
       "1           5     195        115     71           38            30.0   \n",
       "2           5     180        102     67           37            28.0   \n",
       "3           6     193        106     70           37            31.0   \n",
       "4           4     186        109     69           39            27.0   \n",
       "\n",
       "   Luggage.room  Weight   Origin           Make  \n",
       "0          11.0    2705  non-USA  Acura Integra  \n",
       "1          15.0    3560  non-USA   Acura Legend  \n",
       "2          14.0    3375  non-USA        Audi 90  \n",
       "3          17.0    3405  non-USA       Audi 100  \n",
       "4          13.0    3640  non-USA       BMW 535i  "
      ]
     },
     "execution_count": 3,
     "metadata": {},
     "output_type": "execute_result"
    }
   ],
   "source": [
    "A.head()"
   ]
  },
  {
   "cell_type": "markdown",
   "id": "c58e7698",
   "metadata": {},
   "source": [
    "# Which columns should be used for clustering"
   ]
  },
  {
   "cell_type": "markdown",
   "id": "70062a03",
   "metadata": {},
   "source": [
    "This will be based on your domain knowledge and customer perception. Example: In India general buying is based on Price | MPG.city"
   ]
  },
  {
   "cell_type": "code",
   "execution_count": 4,
   "id": "3a814651",
   "metadata": {},
   "outputs": [],
   "source": [
    "B = A[[\"Price\",\"MPG.city\"]]"
   ]
  },
  {
   "cell_type": "markdown",
   "id": "4a4724c6",
   "metadata": {},
   "source": [
    "# Standardize"
   ]
  },
  {
   "cell_type": "code",
   "execution_count": 5,
   "id": "e6f4597d",
   "metadata": {},
   "outputs": [],
   "source": [
    "from sklearn.preprocessing import MinMaxScaler\n",
    "mm = MinMaxScaler() # std *(max-min) + min\n",
    "Q = pd.DataFrame(mm.fit_transform(B))\n",
    "Q.columns = [\"Price\",\"MPG.city\"]"
   ]
  },
  {
   "cell_type": "code",
   "execution_count": 6,
   "id": "2b37dcff",
   "metadata": {},
   "outputs": [
    {
     "data": {
      "text/html": [
       "<div>\n",
       "<style scoped>\n",
       "    .dataframe tbody tr th:only-of-type {\n",
       "        vertical-align: middle;\n",
       "    }\n",
       "\n",
       "    .dataframe tbody tr th {\n",
       "        vertical-align: top;\n",
       "    }\n",
       "\n",
       "    .dataframe thead th {\n",
       "        text-align: right;\n",
       "    }\n",
       "</style>\n",
       "<table border=\"1\" class=\"dataframe\">\n",
       "  <thead>\n",
       "    <tr style=\"text-align: right;\">\n",
       "      <th></th>\n",
       "      <th>Price</th>\n",
       "      <th>MPG.city</th>\n",
       "    </tr>\n",
       "  </thead>\n",
       "  <tbody>\n",
       "    <tr>\n",
       "      <th>0</th>\n",
       "      <td>0.155963</td>\n",
       "      <td>0.322581</td>\n",
       "    </tr>\n",
       "    <tr>\n",
       "      <th>1</th>\n",
       "      <td>0.486239</td>\n",
       "      <td>0.096774</td>\n",
       "    </tr>\n",
       "    <tr>\n",
       "      <th>2</th>\n",
       "      <td>0.398165</td>\n",
       "      <td>0.161290</td>\n",
       "    </tr>\n",
       "  </tbody>\n",
       "</table>\n",
       "</div>"
      ],
      "text/plain": [
       "      Price  MPG.city\n",
       "0  0.155963  0.322581\n",
       "1  0.486239  0.096774\n",
       "2  0.398165  0.161290"
      ]
     },
     "execution_count": 6,
     "metadata": {},
     "output_type": "execute_result"
    }
   ],
   "source": [
    "Q.head(3)"
   ]
  },
  {
   "cell_type": "markdown",
   "id": "b79b7986",
   "metadata": {},
   "source": [
    "# deciding the requried no. clusters"
   ]
  },
  {
   "cell_type": "code",
   "execution_count": 7,
   "id": "ef49e3d7",
   "metadata": {},
   "outputs": [],
   "source": [
    "from sklearn.cluster import KMeans\n",
    "km = KMeans(n_clusters=4)\n",
    "model = km.fit(B)"
   ]
  },
  {
   "cell_type": "code",
   "execution_count": 8,
   "id": "132d6c4b",
   "metadata": {
    "scrolled": true
   },
   "outputs": [
    {
     "data": {
      "text/plain": [
       "array([0, 1, 1, 1, 1, 0, 0, 1, 1, 1, 1, 0, 2, 0, 0, 0, 0, 0, 1, 0, 0, 1,\n",
       "       2, 0, 0, 0, 0, 1, 2, 0, 2, 0, 0, 0, 0, 0, 0, 0, 2, 2, 0, 2, 0, 2,\n",
       "       0, 2, 0, 3, 1, 1, 1, 1, 2, 2, 0, 0, 1, 1, 3, 0, 0, 2, 1, 2, 0, 0,\n",
       "       0, 0, 0, 0, 0, 0, 2, 0, 0, 0, 1, 1, 2, 2, 2, 0, 2, 2, 0, 0, 0, 2,\n",
       "       0, 0, 0, 0, 1])"
      ]
     },
     "execution_count": 8,
     "metadata": {},
     "output_type": "execute_result"
    }
   ],
   "source": [
    "model.labels_"
   ]
  },
  {
   "cell_type": "code",
   "execution_count": 9,
   "id": "0f64bc3a",
   "metadata": {},
   "outputs": [],
   "source": [
    "B['Cluster_no']=model.labels_"
   ]
  },
  {
   "cell_type": "code",
   "execution_count": 10,
   "id": "b055cf32",
   "metadata": {},
   "outputs": [],
   "source": [
    "B['Make']=A.Make"
   ]
  },
  {
   "cell_type": "code",
   "execution_count": 11,
   "id": "296c8641",
   "metadata": {},
   "outputs": [
    {
     "data": {
      "text/html": [
       "<div>\n",
       "<style scoped>\n",
       "    .dataframe tbody tr th:only-of-type {\n",
       "        vertical-align: middle;\n",
       "    }\n",
       "\n",
       "    .dataframe tbody tr th {\n",
       "        vertical-align: top;\n",
       "    }\n",
       "\n",
       "    .dataframe thead th {\n",
       "        text-align: right;\n",
       "    }\n",
       "</style>\n",
       "<table border=\"1\" class=\"dataframe\">\n",
       "  <thead>\n",
       "    <tr style=\"text-align: right;\">\n",
       "      <th></th>\n",
       "      <th>Price</th>\n",
       "      <th>MPG.city</th>\n",
       "      <th>Cluster_no</th>\n",
       "      <th>Make</th>\n",
       "    </tr>\n",
       "  </thead>\n",
       "  <tbody>\n",
       "    <tr>\n",
       "      <th>0</th>\n",
       "      <td>15.9</td>\n",
       "      <td>25</td>\n",
       "      <td>0</td>\n",
       "      <td>Acura Integra</td>\n",
       "    </tr>\n",
       "    <tr>\n",
       "      <th>35</th>\n",
       "      <td>19.9</td>\n",
       "      <td>15</td>\n",
       "      <td>0</td>\n",
       "      <td>Ford Aerostar</td>\n",
       "    </tr>\n",
       "    <tr>\n",
       "      <th>36</th>\n",
       "      <td>20.2</td>\n",
       "      <td>21</td>\n",
       "      <td>0</td>\n",
       "      <td>Ford Taurus</td>\n",
       "    </tr>\n",
       "  </tbody>\n",
       "</table>\n",
       "</div>"
      ],
      "text/plain": [
       "    Price  MPG.city  Cluster_no           Make\n",
       "0    15.9        25           0  Acura Integra\n",
       "35   19.9        15           0  Ford Aerostar\n",
       "36   20.2        21           0    Ford Taurus"
      ]
     },
     "execution_count": 11,
     "metadata": {},
     "output_type": "execute_result"
    }
   ],
   "source": [
    "B.sort_values(by=\"Cluster_no\").head(3)"
   ]
  },
  {
   "cell_type": "markdown",
   "id": "f0c2cc16",
   "metadata": {},
   "source": [
    "# Find similar cars for a given car"
   ]
  },
  {
   "cell_type": "code",
   "execution_count": 12,
   "id": "94735ece",
   "metadata": {},
   "outputs": [
    {
     "name": "stdout",
     "output_type": "stream",
     "text": [
      "Enter the car Make: BMW 535i\n"
     ]
    }
   ],
   "source": [
    "w = input(\"Enter the car Make: \")\n",
    "cluster_no_on_input_car = B[B.Make==w].Cluster_no.values[0]\n",
    "similar_cars = list(B[(B['Cluster_no'] == cluster_no_on_input_car) & (B.Make != w)].Make.values)"
   ]
  },
  {
   "cell_type": "code",
   "execution_count": 17,
   "id": "d01b4727",
   "metadata": {},
   "outputs": [
    {
     "data": {
      "text/plain": [
       "['Acura Legend',\n",
       " 'Audi 90',\n",
       " 'Audi 100',\n",
       " 'Buick Roadmaster',\n",
       " 'Buick Riviera',\n",
       " 'Cadillac DeVille',\n",
       " 'Cadillac Seville',\n",
       " 'Chevrolet Corvette',\n",
       " 'Chrysler Imperial',\n",
       " 'Dodge Stealth',\n",
       " 'Lexus ES300',\n",
       " 'Lexus SC300',\n",
       " 'Lincoln Continental',\n",
       " 'Lincoln Town_Car',\n",
       " 'Mazda RX-7',\n",
       " 'Mercedes-Benz 190E',\n",
       " 'Mitsubishi Diamante',\n",
       " 'Pontiac Bonneville',\n",
       " 'Saab 900',\n",
       " 'Volvo 850']"
      ]
     },
     "execution_count": 17,
     "metadata": {},
     "output_type": "execute_result"
    }
   ],
   "source": [
    "similar_cars"
   ]
  },
  {
   "cell_type": "code",
   "execution_count": 18,
   "id": "77692450",
   "metadata": {},
   "outputs": [],
   "source": [
    "k = range(1,15,1)\n",
    "WCSS = []\n",
    "for i in k:\n",
    "    from sklearn.cluster import KMeans\n",
    "    km = KMeans(n_clusters=i)\n",
    "    model = km.fit(Q)\n",
    "    WCSS.append(model.inertia_)"
   ]
  },
  {
   "cell_type": "code",
   "execution_count": 19,
   "id": "dad5fd4b",
   "metadata": {},
   "outputs": [
    {
     "data": {
      "text/plain": [
       "[5.913485432978067,\n",
       " 2.984556204508493,\n",
       " 1.7604339512829654,\n",
       " 1.2111248917250905,\n",
       " 0.8123445154970707,\n",
       " 0.5533447368852445,\n",
       " 0.43385455675459544,\n",
       " 0.3632658523122845,\n",
       " 0.32041649699263375,\n",
       " 0.27611060996901626,\n",
       " 0.25291523498662605,\n",
       " 0.22492598847373624,\n",
       " 0.20274809042330968,\n",
       " 0.17462125400982287]"
      ]
     },
     "execution_count": 19,
     "metadata": {},
     "output_type": "execute_result"
    }
   ],
   "source": [
    "WCSS"
   ]
  },
  {
   "cell_type": "code",
   "execution_count": 20,
   "id": "13cdcb7e",
   "metadata": {},
   "outputs": [
    {
     "data": {
      "text/plain": [
       "Text(0.5, 1.0, 'Elbow curve')"
      ]
     },
     "execution_count": 20,
     "metadata": {},
     "output_type": "execute_result"
    },
    {
     "data": {
      "image/png": "[encoded data removed]",
      "text/plain": [
       "<Figure size 432x288 with 1 Axes>"
      ]
     },
     "metadata": {
      "needs_background": "light"
     },
     "output_type": "display_data"
    }
   ],
   "source": [
    "import matplotlib.pyplot as plt\n",
    "plt.scatter(k,WCSS,c=\"red\")\n",
    "plt.plot(k,WCSS,c=\"blue\")\n",
    "plt.xticks(range(1,15,1))\n",
    "plt.xlabel(\"no of clusters\")\n",
    "plt.ylabel(\"WCSS\")\n",
    "plt.title(\"Elbow curve\")"
   ]
  },
  {
   "cell_type": "code",
   "execution_count": null,
   "id": "91b53188",
   "metadata": {},
   "outputs": [],
   "source": []
  },
  {
   "cell_type": "code",
   "execution_count": null,
   "id": "03678bf1",
   "metadata": {},
   "outputs": [],
   "source": []
  }
 ],
 "metadata": {
  "kernelspec": {
   "display_name": "Python 3",
   "language": "python",
   "name": "python3"
  },
  "language_info": {
   "codemirror_mode": {
    "name": "ipython",
    "version": 3
   },
   "file_extension": ".py",
   "mimetype": "text/x-python",
   "name": "python",
   "nbconvert_exporter": "python",
   "pygments_lexer": "ipython3",
   "version": "3.8.8"
  }
 },
 "nbformat": 4,
 "nbformat_minor": 5
}
